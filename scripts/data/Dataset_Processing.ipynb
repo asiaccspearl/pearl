{
 "cells": [
  {
   "cell_type": "markdown",
   "id": "5535b30a",
   "metadata": {},
   "source": [
    "# Import libraries"
   ]
  },
  {
   "cell_type": "code",
   "execution_count": 1,
   "id": "18baafed",
   "metadata": {},
   "outputs": [],
   "source": [
    "import pandas as pd\n",
    "import numpy as np\n",
    "import warnings\n",
    "warnings.filterwarnings('ignore')"
   ]
  },
  {
   "cell_type": "markdown",
   "id": "7c2ad560",
   "metadata": {},
   "source": [
    "# Accessing Activity-Zone Mapping Information"
   ]
  },
  {
   "cell_type": "code",
   "execution_count": 2,
   "id": "36d5b6f8",
   "metadata": {},
   "outputs": [],
   "source": [
    "activities = pd.read_excel('Aras-Information.xlsx', sheet_name='Activity-Info')\n",
    "\n",
    "activity_zone_map = dict()\n",
    "for i in range(len(activities)):\n",
    "    activity_zone_map[int(activities[\"Activity ID\"][i])] = int(activities[\"Zone ID\"][i])"
   ]
  },
  {
   "cell_type": "markdown",
   "id": "b367388b",
   "metadata": {},
   "source": [
    "# Constants"
   ]
  },
  {
   "cell_type": "code",
   "execution_count": 3,
   "id": "4eb1d419",
   "metadata": {},
   "outputs": [],
   "source": [
    "NUM_DAYS = 30\n",
    "NUM_ACTIVITIES = len(activities)"
   ]
  },
  {
   "cell_type": "markdown",
   "id": "1ecef9f5",
   "metadata": {},
   "source": [
    "# Dataset Processing Function (SHATTER)"
   ]
  },
  {
   "cell_type": "code",
   "execution_count": 4,
   "id": "0fd73921",
   "metadata": {},
   "outputs": [],
   "source": [
    "def dataset_processing(filename_processed_dataset):\n",
    "    dataset = pd.DataFrame(columns = ['Day', 'Minute', 'Occupant Activity'])\n",
    "\n",
    "    for day in range(1, NUM_DAYS + 1):\n",
    "        records = []\n",
    "        \n",
    "        # Imprtaing Datasets\n",
    "        raw_filename = 'raw/Day-' + str(day) + '.txt'\n",
    "        raw_dataframe =  pd.read_csv(str(raw_filename), header=None, sep = ' ').iloc[:, -2:]  \n",
    "\n",
    "        # Establishing Column Names to Make it Easier to Work with\n",
    "        raw_dataframe.columns = ['Occ-1','Occ-2']\n",
    "\n",
    "        # We will just work with first occupant\n",
    "        occ_activities = raw_dataframe['Occ-1'].to_list()\n",
    "        \n",
    "        for i in range(0, len(occ_activities), 60):\n",
    "            occ_activity_id = occ_activities[i]\n",
    "\n",
    "            records.append([day, int(i/60), occ_activity_id])\n",
    "\n",
    "        dataset = dataset.append(pd.DataFrame(records, columns=dataset.columns), ignore_index=True)\n",
    "    dataset = dataset.reset_index(drop = True)\n",
    "\n",
    "    dataset.to_csv(filename_processed_dataset, index = False)"
   ]
  },
  {
   "cell_type": "markdown",
   "id": "c14ec9ea",
   "metadata": {},
   "source": [
    "# Saving Processed Datasets"
   ]
  },
  {
   "cell_type": "code",
   "execution_count": 5,
   "id": "2743e52c",
   "metadata": {},
   "outputs": [],
   "source": [
    "dataset_processing('processed/Processed-Dataframe.csv')"
   ]
  }
 ],
 "metadata": {
  "kernelspec": {
   "display_name": "Python 3 (ipykernel)",
   "language": "python",
   "name": "python3"
  },
  "language_info": {
   "codemirror_mode": {
    "name": "ipython",
    "version": 3
   },
   "file_extension": ".py",
   "mimetype": "text/x-python",
   "name": "python",
   "nbconvert_exporter": "python",
   "pygments_lexer": "ipython3",
   "version": "3.9.7"
  }
 },
 "nbformat": 4,
 "nbformat_minor": 5
}
