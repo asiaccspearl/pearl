{
 "cells": [
  {
   "cell_type": "markdown",
   "id": "5e3ecb08",
   "metadata": {},
   "source": [
    "# Importing libraries"
   ]
  },
  {
   "cell_type": "code",
   "execution_count": 1,
   "id": "25f1073e",
   "metadata": {},
   "outputs": [],
   "source": [
    "import pandas as pd\n",
    "import numpy as np\n",
    "import math\n",
    "import os\n",
    "import sys\n",
    "import json\n",
    "import matplotlib.pyplot as plt\n",
    "from matplotlib.ticker import MaxNLocator\n",
    "import matplotlib\n",
    "matplotlib.rcParams['pdf.fonttype'] = 42\n",
    "matplotlib.rcParams['ps.fonttype'] = 42\n",
    "sys.path.append(\"../scripts/\")\n",
    "from ActualADM import *"
   ]
  },
  {
   "cell_type": "markdown",
   "id": "70e33a12",
   "metadata": {},
   "source": [
    "# Current and parent directories"
   ]
  },
  {
   "cell_type": "code",
   "execution_count": 2,
   "id": "43b47424",
   "metadata": {},
   "outputs": [],
   "source": [
    "current_directory = os.getcwd()\n",
    "parent_directory = os.path.dirname(current_directory)"
   ]
  },
  {
   "cell_type": "markdown",
   "id": "7cd17323",
   "metadata": {},
   "source": [
    "# Read zone information"
   ]
  },
  {
   "cell_type": "code",
   "execution_count": 3,
   "id": "21e9a6bd",
   "metadata": {},
   "outputs": [],
   "source": [
    "zones = pd.read_excel(str(parent_directory) + '/data/Aras-Information.xlsx', sheet_name='Zone-Info')\n",
    "num_zones = len(zones)"
   ]
  },
  {
   "cell_type": "markdown",
   "id": "0ce20d5b",
   "metadata": {},
   "source": [
    "# Q-learning parameters"
   ]
  },
  {
   "cell_type": "code",
   "execution_count": 4,
   "id": "c396ba61",
   "metadata": {},
   "outputs": [],
   "source": [
    "num_episodes = 20\n",
    "num_iterations = 1000\n",
    "num_timeslots = 1440\n",
    "num_zones = 5\n",
    "eps = 30\n",
    "min_samples = 3\n",
    "epsilon = 0.7\n",
    "learning_rate = 0.8\n",
    "discount_factor = 0.9\n",
    "num_timeslots = 1440"
   ]
  },
  {
   "cell_type": "markdown",
   "id": "44ad5fd6",
   "metadata": {},
   "source": [
    "# With State Elimination"
   ]
  },
  {
   "cell_type": "code",
   "execution_count": null,
   "id": "3c221582",
   "metadata": {},
   "outputs": [],
   "source": [
    "num_episodes = 50\n",
    "num_iterations = 1000\n",
    "\n",
    "house_name  = 'A'\n",
    "occupant_id = '1'\n",
    "adm_algo    = \"DBSCAN\"\n",
    "knowledge   = \"Full\"\n",
    "\n",
    "dataframe = pd.read_csv(str(parent_directory) + '\\data\\\\cleaned\\\\' + 'Cleaned-Dataframe_House-' + str(house_name) + '_Occupant-' + str(occupant_id) + '.csv')                                                                                                       \n",
    "\n",
    "actual_adm = ActualADM(adm_algo, dataframe, knowledge, house_name, occupant_id, num_timeslots, num_zones)\n",
    "list_time_min, list_time_max = actual_adm.noise_augmented_range_calculation()\n",
    "q_learning = QLearning(num_timeslots, num_zones, list_time_min, list_time_max, num_episodes, num_iterations, epsilon, learning_rate, discount_factor)\n",
    "total_costs, attack_schedules = q_learning.model_training()\n",
    "\n",
    "fig = plt.figure()\n",
    "plt.plot(total_costs, marker = 'v', linewidth=3, markersize=12)\n",
    "plt.title(\"House: \" + str(house_name) + \", Occupant: \" + str(occupant_id) + \", ADM Algo: \" + str(adm_algo) + \", Knowledge: \" + str(knowledge))\n",
    "plt.yticks(fontsize=\"20\")\n",
    "#plt.xticks([0, 3, 7, 11, 15, 19], fontsize=\"20\")\n",
    "plt.xlabel(\"Episode\",fontsize=\"24\")\n",
    "plt.ylabel(\"Expected Return\",fontsize=\"24\")\n",
    "# Show the grid\n",
    "plt.grid(True)\n",
    "plt.show()"
   ]
  },
  {
   "cell_type": "markdown",
   "id": "98d2c90d",
   "metadata": {},
   "source": [
    "# Without Pretraining State Elimination"
   ]
  },
  {
   "cell_type": "code",
   "execution_count": null,
   "id": "dc2dd6f7",
   "metadata": {},
   "outputs": [],
   "source": [
    "num_episodes = 100\n",
    "num_iterations = 1000\n",
    "\n",
    "house_name  = 'A'\n",
    "occupant_id = '1'\n",
    "adm_algo    = \"DBSCAN\"\n",
    "knowledge   = \"Full\"\n",
    "\n",
    "dataframe = pd.read_csv(str(parent_directory) + '\\data\\\\cleaned\\\\' + 'Cleaned-Dataframe_House-' + str(house_name) + '_Occupant-' + str(occupant_id) + '.csv')                                                                                                       \n",
    "\n",
    "actual_adm = ActualADM(adm_algo, dataframe, knowledge, house_name, occupant_id, num_timeslots, num_zones)\n",
    "list_time_min, list_time_max = actual_adm.noise_augmented_range_calculation()\n",
    "q_learning = QLearningWithoutPretrainingStateElimination(num_timeslots, num_zones, list_time_min, list_time_max, num_episodes, num_iterations, epsilon, learning_rate, discount_factor)\n",
    "total_costs, attack_schedules = q_learning.model_training()\n",
    "\n",
    "fig = plt.figure()\n",
    "plt.plot(total_costs, marker = 'v', linewidth=3, markersize=12)\n",
    "plt.title(\"House: \" + str(house_name) + \", Occupant: \" + str(occupant_id) + \", ADM Algo: \" + str(adm_algo) + \", Knowledge: \" + str(knowledge))\n",
    "plt.yticks(fontsize=\"20\")\n",
    "#plt.xticks([0, 3, 7, 11, 15, 19], fontsize=\"20\")\n",
    "plt.xlabel(\"Episode\",fontsize=\"24\")\n",
    "plt.ylabel(\"Expected Return\",fontsize=\"24\")\n",
    "# Show the grid\n",
    "plt.grid(True)\n",
    "plt.show()"
   ]
  },
  {
   "cell_type": "markdown",
   "id": "0d401086",
   "metadata": {},
   "source": [
    "# Without Pretraining and Runtime State Elimination"
   ]
  },
  {
   "cell_type": "code",
   "execution_count": null,
   "id": "1fea9e96",
   "metadata": {},
   "outputs": [],
   "source": [
    "num_episodes = 100\n",
    "num_iterations = 1000\n",
    "\n",
    "house_name  = 'A'\n",
    "occupant_id = '1'\n",
    "adm_algo    = \"DBSCAN\"\n",
    "knowledge   = \"Full\"\n",
    "\n",
    "dataframe = pd.read_csv(str(parent_directory) + '\\data\\\\cleaned\\\\' + 'Cleaned-Dataframe_House-' + str(house_name) + '_Occupant-' + str(occupant_id) + '.csv')                                                                                                       \n",
    "\n",
    "actual_adm = ActualADM(adm_algo, dataframe, knowledge, house_name, occupant_id, num_timeslots, num_zones)\n",
    "list_time_min, list_time_max = actual_adm.noise_augmented_range_calculation()\n",
    "q_learning = QLearningWithoutPretrainingAndRuntimeStateElimination(num_timeslots, num_zones, list_time_min, list_time_max, num_episodes, num_iterations, epsilon, learning_rate, discount_factor)\n",
    "total_costs, attack_schedules = q_learning.model_training()\n",
    "\n",
    "fig = plt.figure()\n",
    "plt.plot(total_costs, marker = 'v', linewidth=3, markersize=12)\n",
    "plt.title(\"House: \" + str(house_name) + \", Occupant: \" + str(occupant_id) + \", ADM Algo: \" + str(adm_algo) + \", Knowledge: \" + str(knowledge))\n",
    "plt.yticks(fontsize=\"20\")\n",
    "#plt.xticks([0, 3, 7, 11, 15, 19], fontsize=\"20\")\n",
    "plt.xlabel(\"Episode\",fontsize=\"24\")\n",
    "plt.ylabel(\"Expected Return\",fontsize=\"24\")\n",
    "# Show the grid\n",
    "plt.grid(True)\n",
    "plt.show()"
   ]
  }
 ],
 "metadata": {
  "kernelspec": {
   "display_name": "Python 3 (ipykernel)",
   "language": "python",
   "name": "python3"
  },
  "language_info": {
   "codemirror_mode": {
    "name": "ipython",
    "version": 3
   },
   "file_extension": ".py",
   "mimetype": "text/x-python",
   "name": "python",
   "nbconvert_exporter": "python",
   "pygments_lexer": "ipython3",
   "version": "3.9.13"
  }
 },
 "nbformat": 4,
 "nbformat_minor": 5
}
